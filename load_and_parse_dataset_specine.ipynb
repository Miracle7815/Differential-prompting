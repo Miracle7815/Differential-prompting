{
 "cells": [
  {
   "cell_type": "code",
   "execution_count": 1,
   "id": "7a17369f",
   "metadata": {},
   "outputs": [],
   "source": [
    "import os\n",
    "import json\n",
    "import pandas as pd"
   ]
  },
  {
   "cell_type": "code",
   "execution_count": 2,
   "id": "4179263e",
   "metadata": {},
   "outputs": [
    {
     "name": "stdout",
     "output_type": "stream",
     "text": [
      "Index(['problem_id', 'question', 'solutions', 'difficulty', 'url',\n",
      "       'starter_code', 'public_test_cases', 'all_test_cases',\n",
      "       'all_test_cases_et'],\n",
      "      dtype='object')\n"
     ]
    }
   ],
   "source": [
    "content = pd.read_json(\"./Datasets/apps.jsonl\" , lines=True)\n",
    "print(content.columns)"
   ]
  },
  {
   "cell_type": "code",
   "execution_count": 13,
   "id": "a8086a05",
   "metadata": {},
   "outputs": [
    {
     "data": {
      "text/plain": [
       "problem_id                                                           1\n",
       "question             Anton has the integer x. He is interested what...\n",
       "solutions            [\"num = list(map(int, input()))\\nbest = num[:]...\n",
       "difficulty                                                   interview\n",
       "url                    https://codeforces.com/problemset/problem/770/B\n",
       "starter_code                                                          \n",
       "public_test_cases    {'inputs': ['159\n",
       "', '150\n",
       "', '59999154\n",
       "'], 'out...\n",
       "all_test_cases       {'inputs': ['100\n",
       "', '48\n",
       "', '521\n",
       "', '1\n",
       "', '2\n",
       "',...\n",
       "all_test_cases_et    {'inputs': ['100\n",
       "', '48\n",
       "', '521\n",
       "', '1\n",
       "', '2\n",
       "',...\n",
       "Name: 0, dtype: object"
      ]
     },
     "execution_count": 13,
     "metadata": {},
     "output_type": "execute_result"
    }
   ],
   "source": [
    "content.iloc[0]"
   ]
  }
 ],
 "metadata": {
  "kernelspec": {
   "display_name": "openai",
   "language": "python",
   "name": "python3"
  },
  "language_info": {
   "codemirror_mode": {
    "name": "ipython",
    "version": 3
   },
   "file_extension": ".py",
   "mimetype": "text/x-python",
   "name": "python",
   "nbconvert_exporter": "python",
   "pygments_lexer": "ipython3",
   "version": "3.10.15"
  }
 },
 "nbformat": 4,
 "nbformat_minor": 5
}
